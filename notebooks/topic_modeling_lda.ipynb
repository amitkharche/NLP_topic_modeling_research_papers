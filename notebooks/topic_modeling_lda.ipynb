{
 "cells": [
  {
   "cell_type": "markdown",
   "id": "48e623b7",
   "metadata": {},
   "source": [
    "# Topic Modeling with LDA\n",
    "This notebook walks through the complete process of topic modeling using Latent Dirichlet Allocation (LDA) on research paper abstracts."
   ]
  },
  {
   "cell_type": "code",
   "execution_count": 5,
   "id": "8b717517",
   "metadata": {},
   "outputs": [],
   "source": [
    "import os\n",
    "import pandas as pd\n",
    "import pickle\n",
    "import matplotlib.pyplot as plt\n",
    "import seaborn as sns\n",
    "from sklearn.decomposition import LatentDirichletAllocation\n",
    "from sklearn.feature_extraction.text import CountVectorizer\n",
    "\n",
    "# Configuration\n",
    "DATA_PATH = \"../data/simulated_research_papers.csv\"\n",
    "MODEL_DIR = \"model\"\n",
    "MODEL_PATH = os.path.join(MODEL_DIR, \"lda_model.pkl\")\n",
    "VECTORIZER_PATH = os.path.join(MODEL_DIR, \"vectorizer.pkl\")\n",
    "TOPIC_KEYWORDS_PATH = os.path.join(MODEL_DIR, \"topic_keywords.pkl\")"
   ]
  },
  {
   "cell_type": "markdown",
   "id": "1bbe1ea5",
   "metadata": {},
   "source": [
    "## Load and Explore Dataset"
   ]
  },
  {
   "cell_type": "code",
   "execution_count": 6,
   "id": "60dccab3",
   "metadata": {},
   "outputs": [
    {
     "data": {
      "text/plain": [
       "((2000, 2), ['Title', 'Abstract'])"
      ]
     },
     "execution_count": 6,
     "metadata": {},
     "output_type": "execute_result"
    }
   ],
   "source": [
    "df = pd.read_csv(DATA_PATH)\n",
    "df.shape, df.columns.tolist()"
   ]
  },
  {
   "cell_type": "code",
   "execution_count": 9,
   "id": "8b7f905b",
   "metadata": {},
   "outputs": [
    {
     "data": {
      "text/html": [
       "<div>\n",
       "<style scoped>\n",
       "    .dataframe tbody tr th:only-of-type {\n",
       "        vertical-align: middle;\n",
       "    }\n",
       "\n",
       "    .dataframe tbody tr th {\n",
       "        vertical-align: top;\n",
       "    }\n",
       "\n",
       "    .dataframe thead th {\n",
       "        text-align: right;\n",
       "    }\n",
       "</style>\n",
       "<table border=\"1\" class=\"dataframe\">\n",
       "  <thead>\n",
       "    <tr style=\"text-align: right;\">\n",
       "      <th></th>\n",
       "      <th>Title</th>\n",
       "      <th>Abstract</th>\n",
       "    </tr>\n",
       "  </thead>\n",
       "  <tbody>\n",
       "    <tr>\n",
       "      <th>0</th>\n",
       "      <td>Trouble happen return front would.</td>\n",
       "      <td>AI methods are used to predict climate pattern...</td>\n",
       "    </tr>\n",
       "    <tr>\n",
       "      <th>1</th>\n",
       "      <td>Face somebody certain music suffer radio recent.</td>\n",
       "      <td>This paper explores the use of big data techno...</td>\n",
       "    </tr>\n",
       "    <tr>\n",
       "      <th>2</th>\n",
       "      <td>Water food last real six pattern.</td>\n",
       "      <td>AI methods are used to predict climate pattern...</td>\n",
       "    </tr>\n",
       "    <tr>\n",
       "      <th>3</th>\n",
       "      <td>Activity person economic world south.</td>\n",
       "      <td>Graph neural networks have revolutionized the ...</td>\n",
       "    </tr>\n",
       "    <tr>\n",
       "      <th>4</th>\n",
       "      <td>Defense much religious happen seem.</td>\n",
       "      <td>Graph neural networks have revolutionized the ...</td>\n",
       "    </tr>\n",
       "  </tbody>\n",
       "</table>\n",
       "</div>"
      ],
      "text/plain": [
       "                                              Title  \\\n",
       "0                Trouble happen return front would.   \n",
       "1  Face somebody certain music suffer radio recent.   \n",
       "2                 Water food last real six pattern.   \n",
       "3             Activity person economic world south.   \n",
       "4               Defense much religious happen seem.   \n",
       "\n",
       "                                            Abstract  \n",
       "0  AI methods are used to predict climate pattern...  \n",
       "1  This paper explores the use of big data techno...  \n",
       "2  AI methods are used to predict climate pattern...  \n",
       "3  Graph neural networks have revolutionized the ...  \n",
       "4  Graph neural networks have revolutionized the ...  "
      ]
     },
     "execution_count": 9,
     "metadata": {},
     "output_type": "execute_result"
    }
   ],
   "source": [
    "df.head()"
   ]
  },
  {
   "cell_type": "code",
   "execution_count": 7,
   "id": "0901d6f4",
   "metadata": {},
   "outputs": [
    {
     "name": "stdout",
     "output_type": "stream",
     "text": [
      "<class 'pandas.core.frame.DataFrame'>\n",
      "RangeIndex: 2000 entries, 0 to 1999\n",
      "Data columns (total 2 columns):\n",
      " #   Column    Non-Null Count  Dtype \n",
      "---  ------    --------------  ----- \n",
      " 0   Title     2000 non-null   object\n",
      " 1   Abstract  2000 non-null   object\n",
      "dtypes: object(2)\n",
      "memory usage: 31.4+ KB\n"
     ]
    }
   ],
   "source": [
    "df.info()"
   ]
  },
  {
   "cell_type": "code",
   "execution_count": 8,
   "id": "0cfc8add",
   "metadata": {},
   "outputs": [
    {
     "data": {
      "text/html": [
       "<div>\n",
       "<style scoped>\n",
       "    .dataframe tbody tr th:only-of-type {\n",
       "        vertical-align: middle;\n",
       "    }\n",
       "\n",
       "    .dataframe tbody tr th {\n",
       "        vertical-align: top;\n",
       "    }\n",
       "\n",
       "    .dataframe thead th {\n",
       "        text-align: right;\n",
       "    }\n",
       "</style>\n",
       "<table border=\"1\" class=\"dataframe\">\n",
       "  <thead>\n",
       "    <tr style=\"text-align: right;\">\n",
       "      <th></th>\n",
       "      <th>Title</th>\n",
       "      <th>Abstract</th>\n",
       "    </tr>\n",
       "  </thead>\n",
       "  <tbody>\n",
       "    <tr>\n",
       "      <th>count</th>\n",
       "      <td>2000</td>\n",
       "      <td>2000</td>\n",
       "    </tr>\n",
       "    <tr>\n",
       "      <th>unique</th>\n",
       "      <td>2000</td>\n",
       "      <td>10</td>\n",
       "    </tr>\n",
       "    <tr>\n",
       "      <th>top</th>\n",
       "      <td>Trouble happen return front would.</td>\n",
       "      <td>AI methods are used to predict climate pattern...</td>\n",
       "    </tr>\n",
       "    <tr>\n",
       "      <th>freq</th>\n",
       "      <td>1</td>\n",
       "      <td>216</td>\n",
       "    </tr>\n",
       "  </tbody>\n",
       "</table>\n",
       "</div>"
      ],
      "text/plain": [
       "                                     Title  \\\n",
       "count                                 2000   \n",
       "unique                                2000   \n",
       "top     Trouble happen return front would.   \n",
       "freq                                     1   \n",
       "\n",
       "                                                 Abstract  \n",
       "count                                                2000  \n",
       "unique                                                 10  \n",
       "top     AI methods are used to predict climate pattern...  \n",
       "freq                                                  216  "
      ]
     },
     "execution_count": 8,
     "metadata": {},
     "output_type": "execute_result"
    }
   ],
   "source": [
    "df.describe()"
   ]
  },
  {
   "cell_type": "markdown",
   "id": "d391984a",
   "metadata": {},
   "source": [
    "## Text Preprocessing and Vectorization"
   ]
  },
  {
   "cell_type": "code",
   "execution_count": 10,
   "id": "face7d19",
   "metadata": {},
   "outputs": [
    {
     "data": {
      "text/plain": [
       "(2000, 104)"
      ]
     },
     "execution_count": 10,
     "metadata": {},
     "output_type": "execute_result"
    }
   ],
   "source": [
    "vectorizer = CountVectorizer(max_df=0.95, min_df=2, stop_words='english')\n",
    "X_counts = vectorizer.fit_transform(df['Abstract'])\n",
    "X_counts.shape"
   ]
  },
  {
   "cell_type": "markdown",
   "id": "e243c8c0",
   "metadata": {},
   "source": [
    "## Train LDA Model"
   ]
  },
  {
   "cell_type": "code",
   "execution_count": 11,
   "id": "d7b23203",
   "metadata": {},
   "outputs": [
    {
     "data": {
      "text/html": [
       "<style>#sk-container-id-1 {color: black;}#sk-container-id-1 pre{padding: 0;}#sk-container-id-1 div.sk-toggleable {background-color: white;}#sk-container-id-1 label.sk-toggleable__label {cursor: pointer;display: block;width: 100%;margin-bottom: 0;padding: 0.3em;box-sizing: border-box;text-align: center;}#sk-container-id-1 label.sk-toggleable__label-arrow:before {content: \"▸\";float: left;margin-right: 0.25em;color: #696969;}#sk-container-id-1 label.sk-toggleable__label-arrow:hover:before {color: black;}#sk-container-id-1 div.sk-estimator:hover label.sk-toggleable__label-arrow:before {color: black;}#sk-container-id-1 div.sk-toggleable__content {max-height: 0;max-width: 0;overflow: hidden;text-align: left;background-color: #f0f8ff;}#sk-container-id-1 div.sk-toggleable__content pre {margin: 0.2em;color: black;border-radius: 0.25em;background-color: #f0f8ff;}#sk-container-id-1 input.sk-toggleable__control:checked~div.sk-toggleable__content {max-height: 200px;max-width: 100%;overflow: auto;}#sk-container-id-1 input.sk-toggleable__control:checked~label.sk-toggleable__label-arrow:before {content: \"▾\";}#sk-container-id-1 div.sk-estimator input.sk-toggleable__control:checked~label.sk-toggleable__label {background-color: #d4ebff;}#sk-container-id-1 div.sk-label input.sk-toggleable__control:checked~label.sk-toggleable__label {background-color: #d4ebff;}#sk-container-id-1 input.sk-hidden--visually {border: 0;clip: rect(1px 1px 1px 1px);clip: rect(1px, 1px, 1px, 1px);height: 1px;margin: -1px;overflow: hidden;padding: 0;position: absolute;width: 1px;}#sk-container-id-1 div.sk-estimator {font-family: monospace;background-color: #f0f8ff;border: 1px dotted black;border-radius: 0.25em;box-sizing: border-box;margin-bottom: 0.5em;}#sk-container-id-1 div.sk-estimator:hover {background-color: #d4ebff;}#sk-container-id-1 div.sk-parallel-item::after {content: \"\";width: 100%;border-bottom: 1px solid gray;flex-grow: 1;}#sk-container-id-1 div.sk-label:hover label.sk-toggleable__label {background-color: #d4ebff;}#sk-container-id-1 div.sk-serial::before {content: \"\";position: absolute;border-left: 1px solid gray;box-sizing: border-box;top: 0;bottom: 0;left: 50%;z-index: 0;}#sk-container-id-1 div.sk-serial {display: flex;flex-direction: column;align-items: center;background-color: white;padding-right: 0.2em;padding-left: 0.2em;position: relative;}#sk-container-id-1 div.sk-item {position: relative;z-index: 1;}#sk-container-id-1 div.sk-parallel {display: flex;align-items: stretch;justify-content: center;background-color: white;position: relative;}#sk-container-id-1 div.sk-item::before, #sk-container-id-1 div.sk-parallel-item::before {content: \"\";position: absolute;border-left: 1px solid gray;box-sizing: border-box;top: 0;bottom: 0;left: 50%;z-index: -1;}#sk-container-id-1 div.sk-parallel-item {display: flex;flex-direction: column;z-index: 1;position: relative;background-color: white;}#sk-container-id-1 div.sk-parallel-item:first-child::after {align-self: flex-end;width: 50%;}#sk-container-id-1 div.sk-parallel-item:last-child::after {align-self: flex-start;width: 50%;}#sk-container-id-1 div.sk-parallel-item:only-child::after {width: 0;}#sk-container-id-1 div.sk-dashed-wrapped {border: 1px dashed gray;margin: 0 0.4em 0.5em 0.4em;box-sizing: border-box;padding-bottom: 0.4em;background-color: white;}#sk-container-id-1 div.sk-label label {font-family: monospace;font-weight: bold;display: inline-block;line-height: 1.2em;}#sk-container-id-1 div.sk-label-container {text-align: center;}#sk-container-id-1 div.sk-container {/* jupyter's `normalize.less` sets `[hidden] { display: none; }` but bootstrap.min.css set `[hidden] { display: none !important; }` so we also need the `!important` here to be able to override the default hidden behavior on the sphinx rendered scikit-learn.org. See: https://github.com/scikit-learn/scikit-learn/issues/21755 */display: inline-block !important;position: relative;}#sk-container-id-1 div.sk-text-repr-fallback {display: none;}</style><div id=\"sk-container-id-1\" class=\"sk-top-container\"><div class=\"sk-text-repr-fallback\"><pre>LatentDirichletAllocation(learning_method=&#x27;online&#x27;, n_components=5,\n",
       "                          random_state=42)</pre><b>In a Jupyter environment, please rerun this cell to show the HTML representation or trust the notebook. <br />On GitHub, the HTML representation is unable to render, please try loading this page with nbviewer.org.</b></div><div class=\"sk-container\" hidden><div class=\"sk-item\"><div class=\"sk-estimator sk-toggleable\"><input class=\"sk-toggleable__control sk-hidden--visually\" id=\"sk-estimator-id-1\" type=\"checkbox\" checked><label for=\"sk-estimator-id-1\" class=\"sk-toggleable__label sk-toggleable__label-arrow\">LatentDirichletAllocation</label><div class=\"sk-toggleable__content\"><pre>LatentDirichletAllocation(learning_method=&#x27;online&#x27;, n_components=5,\n",
       "                          random_state=42)</pre></div></div></div></div></div>"
      ],
      "text/plain": [
       "LatentDirichletAllocation(learning_method='online', n_components=5,\n",
       "                          random_state=42)"
      ]
     },
     "execution_count": 11,
     "metadata": {},
     "output_type": "execute_result"
    }
   ],
   "source": [
    "lda = LatentDirichletAllocation(n_components=5, max_iter=10, learning_method='online', random_state=42)\n",
    "lda.fit(X_counts)"
   ]
  },
  {
   "cell_type": "markdown",
   "id": "a7d8844d",
   "metadata": {},
   "source": [
    "## Extract Topic Keywords"
   ]
  },
  {
   "cell_type": "code",
   "execution_count": 12,
   "id": "e1975fbd",
   "metadata": {},
   "outputs": [
    {
     "name": "stdout",
     "output_type": "stream",
     "text": [
      "Topic 1: analyze / build / strategies / used / environmental / climate / patterns / predict / changes / mitigation\n",
      "Topic 2: systems / ai / overview / control / perception / autonomous / planning / focusing / vehicles / efficiently\n",
      "Topic 3: methods / grid / operations / consumption / present / efficiency / smart / energy / optimization / enhance\n",
      "Topic 4: paper / learning / including / deep / machine / various / applied / surveys / analysis / sentiment\n",
      "Topic 5: networks / technologies / security / transparency / financial / blockchain / study / impact / services / investigates\n"
     ]
    }
   ],
   "source": [
    "def get_topic_keywords(model, vectorizer, top_n=10):\n",
    "    keywords = []\n",
    "    feature_names = vectorizer.get_feature_names_out()\n",
    "    for topic_idx, topic in enumerate(model.components_):\n",
    "        top_features_ind = topic.argsort()[:-top_n - 1:-1]\n",
    "        top_words = [feature_names[i] for i in top_features_ind]\n",
    "        topic_keywords = \" / \".join(top_words)\n",
    "        keywords.append(f\"Topic {topic_idx+1}: {topic_keywords}\")\n",
    "    return keywords\n",
    "\n",
    "topic_keywords = get_topic_keywords(lda, vectorizer)\n",
    "for kw in topic_keywords:\n",
    "    print(kw)"
   ]
  },
  {
   "cell_type": "markdown",
   "id": "837f5884",
   "metadata": {},
   "source": [
    "## Topic Distribution per Abstract"
   ]
  },
  {
   "cell_type": "code",
   "execution_count": 13,
   "id": "a61e48a0",
   "metadata": {},
   "outputs": [
    {
     "data": {
      "text/html": [
       "<div>\n",
       "<style scoped>\n",
       "    .dataframe tbody tr th:only-of-type {\n",
       "        vertical-align: middle;\n",
       "    }\n",
       "\n",
       "    .dataframe tbody tr th {\n",
       "        vertical-align: top;\n",
       "    }\n",
       "\n",
       "    .dataframe thead th {\n",
       "        text-align: right;\n",
       "    }\n",
       "</style>\n",
       "<table border=\"1\" class=\"dataframe\">\n",
       "  <thead>\n",
       "    <tr style=\"text-align: right;\">\n",
       "      <th></th>\n",
       "      <th>Title</th>\n",
       "      <th>Abstract</th>\n",
       "      <th>analyze / build / strategies / used / environmental / climate / patterns / predict / changes / mitigation</th>\n",
       "      <th>systems / ai / overview / control / perception / autonomous / planning / focusing / vehicles / efficiently</th>\n",
       "      <th>methods / grid / operations / consumption / present / efficiency / smart / energy / optimization / enhance</th>\n",
       "      <th>paper / learning / including / deep / machine / various / applied / surveys / analysis / sentiment</th>\n",
       "      <th>networks / technologies / security / transparency / financial / blockchain / study / impact / services / investigates</th>\n",
       "    </tr>\n",
       "  </thead>\n",
       "  <tbody>\n",
       "    <tr>\n",
       "      <th>0</th>\n",
       "      <td>Trouble happen return front would.</td>\n",
       "      <td>AI methods are used to predict climate pattern...</td>\n",
       "      <td>0.938368</td>\n",
       "      <td>0.015422</td>\n",
       "      <td>0.015420</td>\n",
       "      <td>0.015385</td>\n",
       "      <td>0.015405</td>\n",
       "    </tr>\n",
       "    <tr>\n",
       "      <th>1</th>\n",
       "      <td>Face somebody certain music suffer radio recent.</td>\n",
       "      <td>This paper explores the use of big data techno...</td>\n",
       "      <td>0.014286</td>\n",
       "      <td>0.014286</td>\n",
       "      <td>0.014335</td>\n",
       "      <td>0.014356</td>\n",
       "      <td>0.942737</td>\n",
       "    </tr>\n",
       "    <tr>\n",
       "      <th>2</th>\n",
       "      <td>Water food last real six pattern.</td>\n",
       "      <td>AI methods are used to predict climate pattern...</td>\n",
       "      <td>0.938368</td>\n",
       "      <td>0.015422</td>\n",
       "      <td>0.015420</td>\n",
       "      <td>0.015385</td>\n",
       "      <td>0.015405</td>\n",
       "    </tr>\n",
       "    <tr>\n",
       "      <th>3</th>\n",
       "      <td>Activity person economic world south.</td>\n",
       "      <td>Graph neural networks have revolutionized the ...</td>\n",
       "      <td>0.013375</td>\n",
       "      <td>0.013333</td>\n",
       "      <td>0.013333</td>\n",
       "      <td>0.013389</td>\n",
       "      <td>0.946569</td>\n",
       "    </tr>\n",
       "    <tr>\n",
       "      <th>4</th>\n",
       "      <td>Defense much religious happen seem.</td>\n",
       "      <td>Graph neural networks have revolutionized the ...</td>\n",
       "      <td>0.013375</td>\n",
       "      <td>0.013333</td>\n",
       "      <td>0.013333</td>\n",
       "      <td>0.013389</td>\n",
       "      <td>0.946569</td>\n",
       "    </tr>\n",
       "  </tbody>\n",
       "</table>\n",
       "</div>"
      ],
      "text/plain": [
       "                                              Title  \\\n",
       "0                Trouble happen return front would.   \n",
       "1  Face somebody certain music suffer radio recent.   \n",
       "2                 Water food last real six pattern.   \n",
       "3             Activity person economic world south.   \n",
       "4               Defense much religious happen seem.   \n",
       "\n",
       "                                            Abstract  \\\n",
       "0  AI methods are used to predict climate pattern...   \n",
       "1  This paper explores the use of big data techno...   \n",
       "2  AI methods are used to predict climate pattern...   \n",
       "3  Graph neural networks have revolutionized the ...   \n",
       "4  Graph neural networks have revolutionized the ...   \n",
       "\n",
       "    analyze / build / strategies / used / environmental / climate / patterns / predict / changes / mitigation  \\\n",
       "0                                           0.938368                                                            \n",
       "1                                           0.014286                                                            \n",
       "2                                           0.938368                                                            \n",
       "3                                           0.013375                                                            \n",
       "4                                           0.013375                                                            \n",
       "\n",
       "    systems / ai / overview / control / perception / autonomous / planning / focusing / vehicles / efficiently  \\\n",
       "0                                           0.015422                                                             \n",
       "1                                           0.014286                                                             \n",
       "2                                           0.015422                                                             \n",
       "3                                           0.013333                                                             \n",
       "4                                           0.013333                                                             \n",
       "\n",
       "    methods / grid / operations / consumption / present / efficiency / smart / energy / optimization / enhance  \\\n",
       "0                                           0.015420                                                             \n",
       "1                                           0.014335                                                             \n",
       "2                                           0.015420                                                             \n",
       "3                                           0.013333                                                             \n",
       "4                                           0.013333                                                             \n",
       "\n",
       "    paper / learning / including / deep / machine / various / applied / surveys / analysis / sentiment  \\\n",
       "0                                           0.015385                                                     \n",
       "1                                           0.014356                                                     \n",
       "2                                           0.015385                                                     \n",
       "3                                           0.013389                                                     \n",
       "4                                           0.013389                                                     \n",
       "\n",
       "    networks / technologies / security / transparency / financial / blockchain / study / impact / services / investigates  \n",
       "0                                           0.015405                                                                       \n",
       "1                                           0.942737                                                                       \n",
       "2                                           0.015405                                                                       \n",
       "3                                           0.946569                                                                       \n",
       "4                                           0.946569                                                                       "
      ]
     },
     "execution_count": 13,
     "metadata": {},
     "output_type": "execute_result"
    }
   ],
   "source": [
    "topic_distributions = lda.transform(X_counts)\n",
    "topic_names = [name.split(\":\")[1] for name in topic_keywords]\n",
    "df_topics = pd.DataFrame(topic_distributions, columns=topic_names)\n",
    "df_combined = pd.concat([df, df_topics], axis=1)\n",
    "df_combined.head()"
   ]
  },
  {
   "cell_type": "markdown",
   "id": "c37ee686",
   "metadata": {},
   "source": [
    "## Save Models and Artifacts"
   ]
  },
  {
   "cell_type": "code",
   "execution_count": null,
   "id": "374a1606",
   "metadata": {},
   "outputs": [],
   "source": [
    "os.makedirs(MODEL_DIR, exist_ok=True)\n",
    "with open(MODEL_PATH, \"wb\") as f:\n",
    "    pickle.dump(lda, f)\n",
    "with open(VECTORIZER_PATH, \"wb\") as f:\n",
    "    pickle.dump(vectorizer, f)\n",
    "with open(TOPIC_KEYWORDS_PATH, \"wb\") as f:\n",
    "    pickle.dump(topic_keywords, f)"
   ]
  },
  {
   "cell_type": "markdown",
   "id": "1324ffe3",
   "metadata": {},
   "source": [
    "## Average Topic Distribution Visualization"
   ]
  },
  {
   "cell_type": "code",
   "execution_count": 14,
   "id": "90aa0a11",
   "metadata": {},
   "outputs": [
    {
     "data": {
      "image/png": "[encoded data removed]",
      "text/plain": [
       "<Figure size 1000x400 with 1 Axes>"
      ]
     },
     "metadata": {},
     "output_type": "display_data"
    }
   ],
   "source": [
    "avg_dist = df_topics.mean().sort_values(ascending=False)\n",
    "plt.figure(figsize=(10, 4))\n",
    "sns.barplot(x=avg_dist.values, y=avg_dist.index)\n",
    "plt.title(\"Average Topic Distribution Across Abstracts\")\n",
    "plt.xlabel(\"Average Proportion\")\n",
    "plt.ylabel(\"Topics\")\n",
    "plt.show()"
   ]
  },
  {
   "cell_type": "code",
   "execution_count": null,
   "id": "afc17ef2",
   "metadata": {},
   "outputs": [],
   "source": []
  }
 ],
 "metadata": {
  "kernelspec": {
   "display_name": "Python 3 (ipykernel)",
   "language": "python",
   "name": "python3"
  },
  "language_info": {
   "codemirror_mode": {
    "name": "ipython",
    "version": 3
   },
   "file_extension": ".py",
   "mimetype": "text/x-python",
   "name": "python",
   "nbconvert_exporter": "python",
   "pygments_lexer": "ipython3",
   "version": "3.11.4"
  }
 },
 "nbformat": 4,
 "nbformat_minor": 5
}
